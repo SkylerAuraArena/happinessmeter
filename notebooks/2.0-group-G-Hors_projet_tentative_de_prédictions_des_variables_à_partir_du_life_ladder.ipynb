{
 "cells": [
  {
   "cell_type": "code",
   "execution_count": 1,
   "id": "9134fd5b",
   "metadata": {},
   "outputs": [],
   "source": [
    "from sklearn.model_selection import train_test_split\n",
    "from sklearn.ensemble import RandomForestRegressor\n",
    "from sklearn.metrics import mean_squared_error\n",
    "import pandas as pd\n",
    "import numpy as np"
   ]
  },
  {
   "cell_type": "code",
   "execution_count": 2,
   "id": "274e90b9",
   "metadata": {},
   "outputs": [],
   "source": [
    "# Étape 1 : Preprocessing et feature engineering de la base de donnée 2022 pour la rendre exploitable.\n",
    "\n",
    "# Import des modules et fichiers.\n",
    "import pandas as pd\n",
    "from sklearn.preprocessing import OneHotEncoder, MinMaxScaler\n",
    "\n",
    "df_2022_full=pd.read_csv('../data/world-hapiness-report-2022.csv',sep=\";\")\n",
    "\n",
    "# Suppression de toutes les lignes non relatives à 2022.\n",
    "df_2022=df_2022_full[(df_2022_full['year']==2022)]\n",
    "\n",
    "# Ajout des continents.\n",
    "#df_continents=pd.read_csv('../data/pays&continents.csv',sep=';')\n",
    "#df_2022=df_2022.merge(right=df_continents,on='Country name',how='outer')\n",
    "#df_2022.insert(1,'Regional indicator',df_2022.pop('Regional indicator'))\n",
    "\n",
    "# Suppression des valeurs manquantes.\n",
    "df_2022=df_2022.dropna()\n",
    "\n",
    "# Suppression de la colonne des années.\n",
    "df_2022=df_2022.drop(['year'],axis=1)\n",
    "\n",
    "# Séparation des variables explicatives et de la variable nom de pays de la variable cible.\n",
    "y_test2022=df_2022.drop(['Life Ladder', 'Country name'],axis=1)\n",
    "X_test2022=df_2022['Life Ladder']\n",
    "\n",
    "#On encode les continents de y_test2022\n",
    "#y_test2022=pd.get_dummies(y_test2022,columns=['Regional indicator'])\n",
    "\n",
    "# Normalisation des données.\n",
    "scaler=MinMaxScaler()\n",
    "cols=['Log GDP per capita','Social support','Healthy life expectancy at birth','Freedom to make life choices',\n",
    "      'Generosity','Perceptions of corruption','Positive affect','Negative affect']\n",
    "y_test2022[cols]=scaler.fit_transform(y_test2022[cols])\n",
    "\n",
    "# Suppression de la colonne \"Regional indicator_Central and Eastern Europe\" pour correspondre à l'encodage des données\n",
    "# fait par le OneHotEncoding.\n",
    "#y_test2022=y_test2022.drop(['Regional indicator_Central and Eastern Europe'],axis=1)\n",
    "\n",
    "# X_test2022 et y_test2022 sont alors respectivements les jeux d'entraînement et de test."
   ]
  },
  {
   "cell_type": "code",
   "execution_count": 3,
   "id": "e718f7cd",
   "metadata": {},
   "outputs": [],
   "source": [
    "# Étape 2 : Récupération des jeux d'entraînement et de test générés dans les notebooks précédents (données de 2006 \n",
    "# à 2021).\n",
    "\n",
    "# Import des données.\n",
    "y_train=pd.read_csv('../data/X_train.csv')\n",
    "y_test=pd.read_csv('../data/X_test.csv')\n",
    "X_train=pd.read_csv('../data/y_train.csv')\n",
    "X_test=pd.read_csv('../data/y_test.csv')\n",
    "\n",
    "# Concaténation.\n",
    "X_train2021=pd.concat([X_train,X_test],axis=0)\n",
    "y_train2021=pd.concat([y_train,y_test],axis=0)\n",
    "\n",
    "# Transofrmation du jeu y en tableau python.\n",
    "#y_train2021=y_train2021['Life Ladder'].values\n",
    "\n",
    "y_train2021=y_train2021.drop(['Regional indicator_Commonwealth of Independent States'],axis=1)\n",
    "y_train2021=y_train2021.drop(['Regional indicator_East Asia'],axis=1)\n",
    "y_train2021=y_train2021.drop(['Regional indicator_Latin America and Caribbean'],axis=1)\n",
    "y_train2021=y_train2021.drop(['Regional indicator_Middle East and North Africa'],axis=1)\n",
    "y_train2021=y_train2021.drop(['Regional indicator_North America and ANZ'],axis=1)\n",
    "y_train2021=y_train2021.drop(['Regional indicator_South Asia'],axis=1)\n",
    "y_train2021=y_train2021.drop(['Regional indicator_Southeast Asia'],axis=1)\n",
    "y_train2021=y_train2021.drop(['Regional indicator_Sub-Saharan Africa'],axis=1)\n",
    "y_train2021=y_train2021.drop(['Regional indicator_Western Europe'],axis=1)\n",
    "\n",
    "# Normalisation des données.\n",
    "from sklearn.preprocessing import MinMaxScaler\n",
    "scaler=MinMaxScaler()\n",
    "cols=['Log GDP per capita','Social support','Healthy life expectancy at birth','Freedom to make life choices',\n",
    "      'Generosity', 'Perceptions of corruption','Positive affect','Negative affect']\n",
    "y_train2021[cols]=scaler.fit_transform(y_train2021[cols])"
   ]
  },
  {
   "cell_type": "code",
   "execution_count": 5,
   "id": "924dd3b5",
   "metadata": {},
   "outputs": [
    {
     "name": "stdout",
     "output_type": "stream",
     "text": [
      "Score sur jeu d'entrainement 2021 : 0.7808656855761213\n",
      "Score sur jeu de test 2022 : 0.20599232592794753\n"
     ]
    }
   ],
   "source": [
    "# Étape 3: Faire tourner le modele de Random forest pour la regression et le tester.\n",
    "\n",
    "from sklearn.ensemble import RandomForestRegressor\n",
    "rf_model = RandomForestRegressor(max_depth=30,max_features='sqrt',min_samples_leaf=1,min_samples_split=2,n_estimators=300)\n",
    "\n",
    "X_test2022 = X_test2022.to_frame()\n",
    "\n",
    "rf_model.fit(X_train2021,y_train2021)\n",
    "\n",
    "print(\"Score sur jeu d'entrainement 2021 :\",rf_model.score(X_train2021,y_train2021))\n",
    "print(\"Score sur jeu de test 2022 :\",rf_model.score(X_test2022,y_test2022))"
   ]
  },
  {
   "cell_type": "code",
   "execution_count": 8,
   "id": "d1cd6c62",
   "metadata": {},
   "outputs": [
    {
     "name": "stdout",
     "output_type": "stream",
     "text": [
      "Score sur jeu d'entrainement 2021 : 0.31685178879601317\n",
      "Score sur jeu de test 2022 : 0.23811159699124473\n"
     ]
    }
   ],
   "source": [
    "from sklearn.linear_model import Ridge\n",
    "\n",
    "ridge_reg = Ridge(alpha=1.0)\n",
    "ridge_reg.fit(X_train2021, y_train2021)\n",
    "\n",
    "ridge_predictions = ridge_reg.predict(X_test2022)\n",
    "\n",
    "print(\"Score sur jeu d'entrainement 2021 :\",ridge_reg.score(X_train2021,y_train2021))\n",
    "print(\"Score sur jeu de test 2022 :\",ridge_reg.score(X_test2022,y_test2022))"
   ]
  },
  {
   "cell_type": "code",
   "execution_count": 15,
   "id": "ae69666b",
   "metadata": {},
   "outputs": [
    {
     "name": "stdout",
     "output_type": "stream",
     "text": [
      "Score sur jeu d'entrainement 2021 : -1.0547118733938987e-15\n",
      "Score sur jeu de test 2022 : -0.10586792642938936\n"
     ]
    }
   ],
   "source": [
    "from sklearn.linear_model import ElasticNet\n",
    "\n",
    "elastic_net = ElasticNet(alpha=1.0, l1_ratio=0.5)\n",
    "elastic_net.fit(X_train2021, y_train2021)\n",
    "\n",
    "en_predictions = elastic_net.predict(X_test2022)\n",
    "\n",
    "print(\"Score sur jeu d'entrainement 2021 :\",elastic_net.score(X_train2021,y_train2021))\n",
    "print(\"Score sur jeu de test 2022 :\",elastic_net.score(X_test2022,y_test2022))"
   ]
  }
 ],
 "metadata": {
  "kernelspec": {
   "display_name": "Python 3 (ipykernel)",
   "language": "python",
   "name": "python3"
  },
  "language_info": {
   "codemirror_mode": {
    "name": "ipython",
    "version": 3
   },
   "file_extension": ".py",
   "mimetype": "text/x-python",
   "name": "python",
   "nbconvert_exporter": "python",
   "pygments_lexer": "ipython3",
   "version": "3.11.3"
  }
 },
 "nbformat": 4,
 "nbformat_minor": 5
}

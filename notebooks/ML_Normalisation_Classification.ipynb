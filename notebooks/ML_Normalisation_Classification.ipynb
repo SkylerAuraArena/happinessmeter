{
 "cells": [
  {
   "cell_type": "code",
   "execution_count": 297,
   "id": "b6016b92",
   "metadata": {},
   "outputs": [],
   "source": [
    "import pandas as pd\n",
    "import numpy as np\n",
    "from sklearn.model_selection import train_test_split\n",
    "from sklearn.preprocessing import StandardScaler\n",
    "from sklearn.preprocessing import LabelEncoder\n",
    "from sklearn.preprocessing import OneHotEncoder\n",
    "from sklearn.metrics import f1_score\n",
    "from sklearn.compose import ColumnTransformer\n",
    "from sklearn.pipeline import Pipeline\n",
    "from sklearn.impute import SimpleImputer\n",
    "\n",
    "X_train=pd.read_csv('X_train.csv')\n",
    "X_test=pd.read_csv('X_test.csv')\n",
    "y_train=pd.read_csv('y_train.csv')\n",
    "y_test=pd.read_csv('y_test.csv')"
   ]
  },
  {
   "cell_type": "code",
   "execution_count": 298,
   "id": "f42bb307",
   "metadata": {},
   "outputs": [],
   "source": [
    "#Ici nous normalisons les données\n",
    "\n",
    "from sklearn.preprocessing import MinMaxScaler\n",
    "\n",
    "scaler=MinMaxScaler()\n",
    "\n",
    "cols=['Log GDP per capita','Social support','Healthy life expectancy at birth','Freedom to make life choices','Generosity',\n",
    "      'Perceptions of corruption','Positive affect','Negative affect']\n",
    "\n",
    "X_train[cols]=scaler.fit_transform(X_train[cols])\n",
    "X_test[cols]=scaler.transform(X_test[cols])"
   ]
  },
  {
   "cell_type": "code",
   "execution_count": 207,
   "id": "6f52238b",
   "metadata": {},
   "outputs": [],
   "source": [
    "#Une fois les données normalisés on peut lancer les modélisations classification\n",
    "#Les données de Life Ladder que nous avons actuellement est un score sur 10, il s'agit de variables continues.\n",
    "#A premier abord il s'agit d'un probleme de regression. Cependant si nous transformons ces notes en catégories comme score :\n",
    "#Très Bas, Bas, Moyen, Haut, Très Haut."
   ]
  },
  {
   "cell_type": "code",
   "execution_count": 299,
   "id": "ed1e6754",
   "metadata": {},
   "outputs": [
    {
     "data": {
      "text/plain": [
       "count    2098.000000\n",
       "mean        5.471402\n",
       "std         1.112676\n",
       "min         2.375000\n",
       "25%         4.652250\n",
       "50%         5.392000\n",
       "75%         6.282500\n",
       "max         8.019000\n",
       "Name: Life Ladder, dtype: float64"
      ]
     },
     "execution_count": 299,
     "metadata": {},
     "output_type": "execute_result"
    }
   ],
   "source": [
    "#Pour cela, analysons la distibution des scores de life ladder\n",
    "\n",
    "df_global2=pd.read_csv('df_global2.csv')\n",
    "\n",
    "df_global2['Life Ladder'].describe()"
   ]
  },
  {
   "cell_type": "code",
   "execution_count": 300,
   "id": "486a1681",
   "metadata": {},
   "outputs": [],
   "source": [
    "#Comme nous pouvons nous en apercevoir avec la description du Life Ladder, le score min est 2.37, le score max est 8.01\n",
    "#La médiane et la moyenne sont quasiment égales vers 5.40\n",
    "#Nous repartissons alors le LIFE LADDER en 5 catégorie : \n",
    "\n",
    "#-Très bas : LL < 3,5\n",
    "#-Bas : LL >=3,5 et <4,63\n",
    "#-Moyen: LL >=4,63 et <5,76\n",
    "#-Haut: LL >=5,76 et <6,89\n",
    "#-Très Haut >=6,89"
   ]
  },
  {
   "cell_type": "code",
   "execution_count": 301,
   "id": "2ebbdc14",
   "metadata": {
    "scrolled": true
   },
   "outputs": [
    {
     "data": {
      "text/html": [
       "<div>\n",
       "<style scoped>\n",
       "    .dataframe tbody tr th:only-of-type {\n",
       "        vertical-align: middle;\n",
       "    }\n",
       "\n",
       "    .dataframe tbody tr th {\n",
       "        vertical-align: top;\n",
       "    }\n",
       "\n",
       "    .dataframe thead th {\n",
       "        text-align: right;\n",
       "    }\n",
       "</style>\n",
       "<table border=\"1\" class=\"dataframe\">\n",
       "  <thead>\n",
       "    <tr style=\"text-align: right;\">\n",
       "      <th></th>\n",
       "      <th>Categorie Life Ladder</th>\n",
       "    </tr>\n",
       "  </thead>\n",
       "  <tbody>\n",
       "    <tr>\n",
       "      <th>0</th>\n",
       "      <td>Moyen</td>\n",
       "    </tr>\n",
       "    <tr>\n",
       "      <th>1</th>\n",
       "      <td>Haut</td>\n",
       "    </tr>\n",
       "    <tr>\n",
       "      <th>2</th>\n",
       "      <td>Haut</td>\n",
       "    </tr>\n",
       "  </tbody>\n",
       "</table>\n",
       "</div>"
      ],
      "text/plain": [
       "  Categorie Life Ladder\n",
       "0                 Moyen\n",
       "1                  Haut\n",
       "2                  Haut"
      ]
     },
     "execution_count": 301,
     "metadata": {},
     "output_type": "execute_result"
    }
   ],
   "source": [
    "# On créer une fonction pour déterminer la categorie\n",
    "\n",
    "def categorie(valeur):\n",
    "    if valeur < 3.5:\n",
    "        return 'Très bas'\n",
    "    elif valeur >= 3.5 and valeur <= 4.63:\n",
    "        return 'Bas'\n",
    "    elif valeur >= 4.63 and valeur <= 5.76:\n",
    "        return 'Moyen'\n",
    "    elif valeur >= 5.76 and valeur <= 6.89:\n",
    "        return 'Haut'\n",
    "    else:\n",
    "        return 'Très Haute'\n",
    "\n",
    "y_train['Categorie Life Ladder'] = y_train['Life Ladder'].apply(categorie)\n",
    "y_train=y_train.drop('Life Ladder',axis=1)\n",
    "y_train.head(3)"
   ]
  },
  {
   "cell_type": "code",
   "execution_count": 302,
   "id": "b55996bc",
   "metadata": {
    "scrolled": true
   },
   "outputs": [
    {
     "data": {
      "text/html": [
       "<div>\n",
       "<style scoped>\n",
       "    .dataframe tbody tr th:only-of-type {\n",
       "        vertical-align: middle;\n",
       "    }\n",
       "\n",
       "    .dataframe tbody tr th {\n",
       "        vertical-align: top;\n",
       "    }\n",
       "\n",
       "    .dataframe thead th {\n",
       "        text-align: right;\n",
       "    }\n",
       "</style>\n",
       "<table border=\"1\" class=\"dataframe\">\n",
       "  <thead>\n",
       "    <tr style=\"text-align: right;\">\n",
       "      <th></th>\n",
       "      <th>Categorie Life Ladder</th>\n",
       "    </tr>\n",
       "  </thead>\n",
       "  <tbody>\n",
       "    <tr>\n",
       "      <th>0</th>\n",
       "      <td>Haut</td>\n",
       "    </tr>\n",
       "    <tr>\n",
       "      <th>1</th>\n",
       "      <td>Bas</td>\n",
       "    </tr>\n",
       "    <tr>\n",
       "      <th>2</th>\n",
       "      <td>Haut</td>\n",
       "    </tr>\n",
       "  </tbody>\n",
       "</table>\n",
       "</div>"
      ],
      "text/plain": [
       "  Categorie Life Ladder\n",
       "0                  Haut\n",
       "1                   Bas\n",
       "2                  Haut"
      ]
     },
     "execution_count": 302,
     "metadata": {},
     "output_type": "execute_result"
    }
   ],
   "source": [
    "#On applique la meme chose a y_test\n",
    "\n",
    "y_test['Categorie Life Ladder'] = y_test['Life Ladder'].apply(categorie)\n",
    "y_test=y_test.drop('Life Ladder',axis=1)\n",
    "\n",
    "\n",
    "y_test.head(3)"
   ]
  },
  {
   "cell_type": "code",
   "execution_count": 303,
   "id": "78ee4399",
   "metadata": {},
   "outputs": [],
   "source": [
    "y_train=y_train['Categorie Life Ladder'].values\n",
    "y_test=y_test['Categorie Life Ladder'].values"
   ]
  },
  {
   "cell_type": "code",
   "execution_count": 304,
   "id": "2c74e2c4",
   "metadata": {},
   "outputs": [
    {
     "name": "stdout",
     "output_type": "stream",
     "text": [
      "Score sur ensemble train 1.0\n",
      "Score sur ensemble test 0.6571428571428571\n"
     ]
    }
   ],
   "source": [
    "#Nous avons maintenant X_train, X_test, y_train, y_test dans un format adéquat aux modèles de classification\n",
    "\n",
    "from sklearn import tree\n",
    "from sklearn.tree import DecisionTreeClassifier\n",
    "\n",
    "dtc = tree.DecisionTreeClassifier(random_state=42)\n",
    "dtc.fit(X_train, y_train)\n",
    "\n",
    "print('Score sur ensemble train', dtc.score(X_train, y_train))\n",
    "print('Score sur ensemble test', dtc.score(X_test, y_test))\n",
    "\n",
    "#Il y a ici un suraprentissage évident car le score sur le jeu d'entrainement est à 1 et le score sur le jeu de test à 0.65\n"
   ]
  },
  {
   "cell_type": "code",
   "execution_count": 305,
   "id": "26019ab4",
   "metadata": {},
   "outputs": [
    {
     "name": "stdout",
     "output_type": "stream",
     "text": [
      "Score sur ensemble train 0.7067938021454112\n",
      "Score sur ensemble test 0.680952380952381\n"
     ]
    }
   ],
   "source": [
    "#On réduit le nombre minimal d'individus requis pour une séparation de noeud avec les parametres max_depth et min_sample_leaf\n",
    "\n",
    "dtc2 = DecisionTreeClassifier(max_depth = 5, min_samples_leaf = 25, random_state=42)\n",
    "\n",
    "dtc2.fit(X_train, y_train)\n",
    "\n",
    "print('Score sur ensemble train', dtc2.score(X_train, y_train))\n",
    "\n",
    "print('Score sur ensemble test', dtc2.score(X_test, y_test))\n",
    "\n",
    "#En jouant sur les deux parametres max_depth et min_sample_leaf on arrive a avoir des score legerement meilleurs.\n",
    "#Bien que le score sur le jeu d'entraînement ait légèrement baissé, on constate que l'écart entre le score sur le\n",
    "#jeu d'entraînement et le score sur le jeu de test est réduit. On décide donc de poursuivre \n",
    "#avec ce modèle qui généralise mieux sur les données qu'il ne connaît pas.\n",
    "\n",
    "#0.68 n'étant toujours pas exceptionelle on va essayer de voir les variables les plus importantes dans le mode de calcul de \n",
    "#L'algoritme"
   ]
  },
  {
   "cell_type": "code",
   "execution_count": 306,
   "id": "c0691e1c",
   "metadata": {
    "scrolled": true
   },
   "outputs": [
    {
     "data": {
      "image/png": "[encoded data removed]",
      "text/plain": [
       "<Figure size 400x400 with 1 Axes>"
      ]
     },
     "metadata": {},
     "output_type": "display_data"
    }
   ],
   "source": [
    "import matplotlib.pyplot as plt\n",
    "%matplotlib inline\n",
    "feat_importances = pd.DataFrame(dtc2.feature_importances_, index=X_train.columns, columns=[\"Importance\"])\n",
    "feat_importances.sort_values(by='Importance', ascending=False, inplace=True)\n",
    "feat_importances.plot(kind='bar', figsize=(4,4));"
   ]
  },
  {
   "cell_type": "code",
   "execution_count": 307,
   "id": "179fe14b",
   "metadata": {},
   "outputs": [
    {
     "name": "stdout",
     "output_type": "stream",
     "text": [
      "Score sur ensemble train 0.6912991656734208\n",
      "Score sur ensemble test 0.6452380952380953\n"
     ]
    }
   ],
   "source": [
    "X_train_new = X_train[['Log GDP per capita','Healthy life expectancy at birth','Positive affect',\"Social support\"]]\n",
    "X_test_new = X_test[['Log GDP per capita','Healthy life expectancy at birth','Positive affect',\"Social support\"]]\n",
    "\n",
    "dtc2 = DecisionTreeClassifier(max_depth = 5, min_samples_leaf = 25, random_state=42)\n",
    "\n",
    "dtc2.fit(X_train_new, y_train)\n",
    "\n",
    "print('Score sur ensemble train', dtc2.score(X_train_new, y_train))\n",
    "\n",
    "print('Score sur ensemble test', dtc2.score(X_test_new, y_test))\n",
    "\n",
    "#Ce n'est pas forcement necessaire, au contraire sur ce coup ci car cela réduit la performance du modèle. On ne peut donc pas\n",
    "#mieux faire que 0.68 sur le modele d'arbre de classification. Passons à un autre modèle"
   ]
  },
  {
   "cell_type": "code",
   "execution_count": 308,
   "id": "c9a3f6bb",
   "metadata": {},
   "outputs": [
    {
     "name": "stdout",
     "output_type": "stream",
     "text": [
      "Score sur jeu d'entrainement : 0.6591179976162098\n",
      "Score sur jeu de test : 0.6952380952380952\n"
     ]
    }
   ],
   "source": [
    "#LA REGRESSION LOGISTIQUE\n",
    "from sklearn.linear_model import LogisticRegression\n",
    "\n",
    "#Pour supprimer le message d'erreur suivant : \"TOTAL NO. of ITERATIONS REACHED LIMIT\"\n",
    "#j'ajoute un nombre d'iteration a 1000 ce qui améliore legerement le modele.\n",
    "\n",
    "LR = LogisticRegression(max_iter=1000,random_state=42)\n",
    "\n",
    "LR.fit(X_train,y_train)\n",
    "\n",
    "print(\"Score sur jeu d'entrainement :\",LR.score(X_train,y_train))\n",
    "print(\"Score sur jeu de test :\",LR.score(X_test,y_test))\n",
    "\n",
    "#Score legerement supérieur à la méthode d'arbre de classification mais un score bas sur le jeu d'entrainement. Voyons une\n",
    "#autre méthode d'algorithme."
   ]
  },
  {
   "cell_type": "code",
   "execution_count": 309,
   "id": "df7e9f00",
   "metadata": {},
   "outputs": [
    {
     "name": "stdout",
     "output_type": "stream",
     "text": [
      "Score sur ensemble train 1.0\n",
      "Score sur ensemble test 0.7619047619047619\n"
     ]
    }
   ],
   "source": [
    "#LE RANDOM FOREST\n",
    "\n",
    "from sklearn.ensemble import RandomForestClassifier\n",
    "\n",
    "rf = RandomForestClassifier()\n",
    "rf.fit(X_train, y_train)\n",
    "\n",
    "print('Score sur ensemble train', rf.score(X_train, y_train))\n",
    "print('Score sur ensemble test', rf.score(X_test, y_test))\n",
    "\n",
    "#Il s'agit pour le moment du modèle de classification le plus performant.\n",
    "#Voyons comment nous pourrions l'améliorer."
   ]
  },
  {
   "cell_type": "code",
   "execution_count": 310,
   "id": "8fd8c33b",
   "metadata": {},
   "outputs": [
    {
     "name": "stdout",
     "output_type": "stream",
     "text": [
      "Score sur ensemble train 1.0\n",
      "Score sur ensemble test 0.7619047619047619\n"
     ]
    }
   ],
   "source": [
    "#Ce modele random forest étant interessant on peut se demander comment l'optimiser. Il est possible de travailler sur les \n",
    "#hyperparametres comme nous avons fait pour le modele d'arbre de classification.\n",
    "\n",
    "from sklearn.ensemble import RandomForestClassifier\n",
    "\n",
    "rf = RandomForestClassifier(n_estimators=300,max_depth=20)\n",
    "rf.fit(X_train, y_train)\n",
    "\n",
    "print('Score sur ensemble train', rf.score(X_train, y_train))\n",
    "print('Score sur ensemble test', rf.score(X_test, y_test))\n",
    "\n",
    "#On voit que nous pouvons améliorer les scores gràce aux hyperparametres. Mais je le fais à la mains. \n",
    "#Cela pourrait être interessant d'utiliser un outil permetant de comprendres quels combinaisons sont les meilleures.\n",
    "#Pour cela nous allons utiliser GridSearchCV.\n"
   ]
  },
  {
   "cell_type": "code",
   "execution_count": 1,
   "id": "79345f48",
   "metadata": {},
   "outputs": [
    {
     "ename": "NameError",
     "evalue": "name 'RandomForestClassifier' is not defined",
     "output_type": "error",
     "traceback": [
      "\u001b[1;31m---------------------------------------------------------------------------\u001b[0m",
      "\u001b[1;31mNameError\u001b[0m                                 Traceback (most recent call last)",
      "Cell \u001b[1;32mIn[1], line 7\u001b[0m\n\u001b[0;32m      1\u001b[0m \u001b[38;5;28;01mfrom\u001b[39;00m \u001b[38;5;21;01msklearn\u001b[39;00m\u001b[38;5;21;01m.\u001b[39;00m\u001b[38;5;21;01mmodel_selection\u001b[39;00m \u001b[38;5;28;01mimport\u001b[39;00m GridSearchCV\n\u001b[0;32m      2\u001b[0m grille_hyperp\u001b[38;5;241m=\u001b[39m{\n\u001b[0;32m      3\u001b[0m     \u001b[38;5;124m'\u001b[39m\u001b[38;5;124mn_estimators\u001b[39m\u001b[38;5;124m'\u001b[39m:[\u001b[38;5;28;01mNone\u001b[39;00m,\u001b[38;5;241m50\u001b[39m,\u001b[38;5;241m100\u001b[39m,\u001b[38;5;241m200\u001b[39m,\u001b[38;5;241m300\u001b[39m,\u001b[38;5;241m500\u001b[39m],\n\u001b[0;32m      4\u001b[0m     \u001b[38;5;124m'\u001b[39m\u001b[38;5;124mmax_depth\u001b[39m\u001b[38;5;124m'\u001b[39m:[\u001b[38;5;28;01mNone\u001b[39;00m,\u001b[38;5;241m5\u001b[39m,\u001b[38;5;241m10\u001b[39m,\u001b[38;5;241m20\u001b[39m,\u001b[38;5;241m30\u001b[39m,\u001b[38;5;241m50\u001b[39m],\n\u001b[0;32m      5\u001b[0m     \u001b[38;5;124m'\u001b[39m\u001b[38;5;124mmin_samples_split\u001b[39m\u001b[38;5;124m'\u001b[39m:[\u001b[38;5;28;01mNone\u001b[39;00m,\u001b[38;5;241m2\u001b[39m,\u001b[38;5;241m5\u001b[39m,\u001b[38;5;241m6\u001b[39m]}\n\u001b[1;32m----> 7\u001b[0m grid_search \u001b[38;5;241m=\u001b[39m GridSearchCV(RandomForestClassifier(),grille_hyperp , cv\u001b[38;5;241m=\u001b[39m\u001b[38;5;241m5\u001b[39m)\n\u001b[0;32m      9\u001b[0m grid_search\u001b[38;5;241m.\u001b[39mfit(X_train, y_train)\n",
      "\u001b[1;31mNameError\u001b[0m: name 'RandomForestClassifier' is not defined"
     ]
    }
   ],
   "source": [
    "from sklearn.model_selection import GridSearchCV\n",
    "grille_hyperp={\n",
    "    'n_estimators':[None,50,100,200,300,500],\n",
    "    'max_depth':[None,5,10,20,30,50],\n",
    "    'min_samples_split':[None,2,5,6]}\n",
    "\n",
    "grid_search = GridSearchCV(RandomForestClassifier(),grille_hyperp , cv=5)\n",
    "\n",
    "grid_search.fit(X_train, y_train)\n",
    "\n",
    "#Ce que je comprend ici quand il a fini de tourner la premiere fois \n",
    "#c'est qu'au mieux on peut monter jusqu'a 0,77 donc on était pas mal "
   ]
  },
  {
   "cell_type": "code",
   "execution_count": 312,
   "id": "77cc63c1",
   "metadata": {},
   "outputs": [
    {
     "name": "stdout",
     "output_type": "stream",
     "text": [
      "Random Forest Accuracy: 0.7619047619047619\n",
      "Decision Tree Accuracy: 0.6452380952380953\n",
      "Logistic Regression Accuracy: 0.6952380952380952\n",
      "\n",
      "Random Forest Classification Report:\n",
      "              precision    recall  f1-score   support\n",
      "\n",
      "         Bas       0.73      0.81      0.77       100\n",
      "        Haut       0.78      0.78      0.78       112\n",
      "       Moyen       0.74      0.76      0.75       142\n",
      "  Très Haute       0.87      0.79      0.83        52\n",
      "    Très bas       0.75      0.21      0.33        14\n",
      "\n",
      "    accuracy                           0.76       420\n",
      "   macro avg       0.77      0.67      0.69       420\n",
      "weighted avg       0.76      0.76      0.76       420\n",
      "\n",
      "\n",
      "Decision Tree Classification Report:\n",
      "              precision    recall  f1-score   support\n",
      "\n",
      "         Bas       0.72      0.63      0.67       100\n",
      "        Haut       0.59      0.70      0.64       112\n",
      "       Moyen       0.62      0.65      0.63       142\n",
      "  Très Haute       0.72      0.73      0.72        52\n",
      "    Très bas       0.00      0.00      0.00        14\n",
      "\n",
      "    accuracy                           0.65       420\n",
      "   macro avg       0.53      0.54      0.53       420\n",
      "weighted avg       0.63      0.65      0.64       420\n",
      "\n",
      "\n",
      "Logistic Regression Classification Report:\n",
      "              precision    recall  f1-score   support\n",
      "\n",
      "         Bas       0.68      0.63      0.65       100\n",
      "        Haut       0.73      0.74      0.74       112\n",
      "       Moyen       0.65      0.75      0.70       142\n",
      "  Très Haute       0.78      0.75      0.76        52\n",
      "    Très bas       0.00      0.00      0.00        14\n",
      "\n",
      "    accuracy                           0.70       420\n",
      "   macro avg       0.57      0.57      0.57       420\n",
      "weighted avg       0.67      0.70      0.68       420\n",
      "\n"
     ]
    },
    {
     "name": "stderr",
     "output_type": "stream",
     "text": [
      "C:\\Users\\user\\anaconda4\\Lib\\site-packages\\sklearn\\metrics\\_classification.py:1469: UndefinedMetricWarning: Precision and F-score are ill-defined and being set to 0.0 in labels with no predicted samples. Use `zero_division` parameter to control this behavior.\n",
      "  _warn_prf(average, modifier, msg_start, len(result))\n",
      "C:\\Users\\user\\anaconda4\\Lib\\site-packages\\sklearn\\metrics\\_classification.py:1469: UndefinedMetricWarning: Precision and F-score are ill-defined and being set to 0.0 in labels with no predicted samples. Use `zero_division` parameter to control this behavior.\n",
      "  _warn_prf(average, modifier, msg_start, len(result))\n",
      "C:\\Users\\user\\anaconda4\\Lib\\site-packages\\sklearn\\metrics\\_classification.py:1469: UndefinedMetricWarning: Precision and F-score are ill-defined and being set to 0.0 in labels with no predicted samples. Use `zero_division` parameter to control this behavior.\n",
      "  _warn_prf(average, modifier, msg_start, len(result))\n",
      "C:\\Users\\user\\anaconda4\\Lib\\site-packages\\sklearn\\metrics\\_classification.py:1469: UndefinedMetricWarning: Precision and F-score are ill-defined and being set to 0.0 in labels with no predicted samples. Use `zero_division` parameter to control this behavior.\n",
      "  _warn_prf(average, modifier, msg_start, len(result))\n",
      "C:\\Users\\user\\anaconda4\\Lib\\site-packages\\sklearn\\metrics\\_classification.py:1469: UndefinedMetricWarning: Precision and F-score are ill-defined and being set to 0.0 in labels with no predicted samples. Use `zero_division` parameter to control this behavior.\n",
      "  _warn_prf(average, modifier, msg_start, len(result))\n",
      "C:\\Users\\user\\anaconda4\\Lib\\site-packages\\sklearn\\metrics\\_classification.py:1469: UndefinedMetricWarning: Precision and F-score are ill-defined and being set to 0.0 in labels with no predicted samples. Use `zero_division` parameter to control this behavior.\n",
      "  _warn_prf(average, modifier, msg_start, len(result))\n"
     ]
    }
   ],
   "source": [
    "from sklearn.metrics import accuracy_score, classification_report\n",
    "#Random Forsest = rf\n",
    "#Regression Logistique = LR\n",
    "#l'arbre de classification = dtc2\n",
    "\n",
    "rf_predictions = rf.predict(X_test)\n",
    "dtc2_predictions = dtc2.predict(X_test_new)\n",
    "LR_predictions = LR.predict(X_test)\n",
    "\n",
    "rf_accuracy = accuracy_score(y_test, rf_predictions)\n",
    "dtc2_accuracy = accuracy_score(y_test, dtc2_predictions)\n",
    "LR_accuracy = accuracy_score(y_test, LR_predictions)\n",
    "\n",
    "rf_report = classification_report(y_test, rf_predictions)\n",
    "dtc2_report = classification_report(y_test, dtc2_predictions)\n",
    "LR_report = classification_report(y_test, LR_predictions)\n",
    "\n",
    "print(\"Random Forest Accuracy:\", rf_accuracy)\n",
    "print(\"Decision Tree Accuracy:\", dtc2_accuracy)\n",
    "print(\"Logistic Regression Accuracy:\", LR_accuracy)\n",
    "\n",
    "print(\"\\nRandom Forest Classification Report:\")\n",
    "print(rf_report)\n",
    "print(\"\\nDecision Tree Classification Report:\")\n",
    "print(dtc2_report)\n",
    "print(\"\\nLogistic Regression Classification Report:\")\n",
    "print(LR_report)\n",
    "\n",
    "#Pour comparer les modèles de classifications on utilise en premier l'accuracy car c'est la méthode la plus connue pour evaluer\n",
    "#un modele de classification. Elle correspond au taux de prédictions correctes effectuées par le modèle \n",
    "\n",
    "#On édite quand meme un rapport de classification afin de se rendre compte des predictions sur chaque classe et pour voir si il\n",
    "#y a des désequilibres entre les classes.\n",
    "\n",
    "#Après avoir fais un bref rappel de chaque metrique on peut dire que le random forest est la plus précise et donc celle a choisir\n",
    "#comme modèle de classification bien qu'elle mériterait encore quelques ajustement pour la rendre plus précise."
   ]
  }
 ],
 "metadata": {
  "kernelspec": {
   "display_name": "Python 3 (ipykernel)",
   "language": "python",
   "name": "python3"
  },
  "language_info": {
   "codemirror_mode": {
    "name": "ipython",
    "version": 3
   },
   "file_extension": ".py",
   "mimetype": "text/x-python",
   "name": "python",
   "nbconvert_exporter": "python",
   "pygments_lexer": "ipython3",
   "version": "3.11.5"
  }
 },
 "nbformat": 4,
 "nbformat_minor": 5
}
